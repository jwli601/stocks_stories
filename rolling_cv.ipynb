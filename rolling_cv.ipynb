{
 "cells": [
  {
   "cell_type": "markdown",
   "id": "f2ec6599",
   "metadata": {},
   "source": [
    "# 想法：股债轮动与cv策略叠加：股债用于判断大方向，cv用于判断操作时机\n",
    "## 1，在股周期逢低加仓（大）；逢高追涨（小）；在债周期逢高出逃（大）；逢低割肉（清）"
   ]
  },
  {
   "cell_type": "code",
   "execution_count": 1,
   "id": "3c8d2ce3",
   "metadata": {},
   "outputs": [],
   "source": [
    "import akshare as ak\n",
    "import tushare as ts\n",
    "import numpy as np\n",
    "import pandas as pd\n",
    "from matplotlib import pyplot as plt"
   ]
  },
  {
   "cell_type": "code",
   "execution_count": null,
   "id": "3393536f",
   "metadata": {},
   "outputs": [],
   "source": []
  }
 ],
 "metadata": {
  "kernelspec": {
   "display_name": "Python 3",
   "language": "python",
   "name": "python3"
  },
  "language_info": {
   "codemirror_mode": {
    "name": "ipython",
    "version": 3
   },
   "file_extension": ".py",
   "mimetype": "text/x-python",
   "name": "python",
   "nbconvert_exporter": "python",
   "pygments_lexer": "ipython3",
   "version": "3.8.8"
  }
 },
 "nbformat": 4,
 "nbformat_minor": 5
}
