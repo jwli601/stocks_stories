{
 "cells": [
  {
   "cell_type": "code",
   "execution_count": 1,
   "id": "603c78cc",
   "metadata": {},
   "outputs": [],
   "source": [
    "import cv_strategy\n",
    "import pandas as pd\n",
    "import tushare as ts\n",
    "from matplotlib import pyplot as plt\n",
    "from matplotlib import animation\n",
    "import numpy as np\n",
    "import akshare as ak"
   ]
  },
  {
   "cell_type": "code",
   "execution_count": 106,
   "id": "684f04f9",
   "metadata": {},
   "outputs": [
    {
     "name": "stdout",
     "output_type": "stream",
     "text": [
      "本接口即将停止更新，请尽快使用Pro版接口：https://waditu.com/document/2\n"
     ]
    }
   ],
   "source": [
    "sz50 = ts.get_k_data('hs300',start='2000-01-01').set_index('date')\n",
    "sz50['return'] = sz50.close.pct_change()"
   ]
  },
  {
   "cell_type": "code",
   "execution_count": 107,
   "id": "55b1b536",
   "metadata": {},
   "outputs": [],
   "source": [
    "period=240\n",
    "sz50['pos'] = (sz50.close-sz50.close.rolling(period).mean())/sz50.close.rolling(period).std()\n",
    "sz50.dropna(inplace=True)"
   ]
  },
  {
   "cell_type": "code",
   "execution_count": 108,
   "id": "6bde5ffd",
   "metadata": {},
   "outputs": [],
   "source": [
    "df_wt = pd.DataFrame(columns=['cash','sz50'],index=sz50.index)\n",
    "df_wt.iloc[0,0] = 0.5\n",
    "df_wt.iloc[0,1] = 0.5"
   ]
  },
  {
   "cell_type": "code",
   "execution_count": 109,
   "id": "5b6dd311",
   "metadata": {},
   "outputs": [],
   "source": [
    "df_rt = pd.DataFrame(columns=['cash','sz50'],index=sz50.index)\n",
    "df_rt['cash'] = 0\n",
    "df_rt['sz50'] = sz50['return']"
   ]
  },
  {
   "cell_type": "code",
   "execution_count": 120,
   "id": "d9c9be4f",
   "metadata": {},
   "outputs": [
    {
     "name": "stdout",
     "output_type": "stream",
     "text": [
      "[-2.35110502  3.00644232]\n"
     ]
    }
   ],
   "source": [
    "signal = np.percentile(sz50.pos,[2,98])\n",
    "print(signal)"
   ]
  },
  {
   "cell_type": "code",
   "execution_count": 121,
   "id": "c41fe355",
   "metadata": {},
   "outputs": [],
   "source": [
    "for i in sz50.index[1:]:\n",
    "    df_wt.loc[i,'cash'] = df_wt.shift(1).loc[i,'cash']*(1+df_rt.loc[i,'cash'])\n",
    "    df_wt.loc[i,'sz50'] = df_wt.shift(1).loc[i,'sz50']*(1+df_rt.loc[i,'sz50'])\n",
    "    \n",
    "    if sz50.loc[i,'pos']<signal[0]:\n",
    "        df_wt.loc[i,'sz50'] = df_wt.loc[i].sum()\n",
    "        df_wt.loc[i,'cash'] = 0\n",
    "    elif sz50.loc[i,'pos']>signal[1]:\n",
    "        df_wt.loc[i,'cash'] = df_wt.loc[i].sum()\n",
    "        df_wt.loc[i,'sz50'] = 0\n"
   ]
  },
  {
   "cell_type": "code",
   "execution_count": 122,
   "id": "31735d9e",
   "metadata": {},
   "outputs": [
    {
     "data": {
      "text/plain": [
       "<AxesSubplot:xlabel='date'>"
      ]
     },
     "execution_count": 122,
     "metadata": {},
     "output_type": "execute_result"
    },
    {
     "data": {
      "image/png": "[encoded data removed]",
      "text/plain": [
       "<Figure size 432x288 with 1 Axes>"
      ]
     },
     "metadata": {
      "needs_background": "light"
     },
     "output_type": "display_data"
    }
   ],
   "source": [
    "df_wt.T.sum().plot()"
   ]
  },
  {
   "cell_type": "code",
   "execution_count": 123,
   "id": "970033ec",
   "metadata": {},
   "outputs": [
    {
     "data": {
      "text/plain": [
       "1.0237784865237978"
      ]
     },
     "execution_count": 123,
     "metadata": {},
     "output_type": "execute_result"
    }
   ],
   "source": [
    "1.6**0.05"
   ]
  },
  {
   "cell_type": "code",
   "execution_count": null,
   "id": "6602b26c",
   "metadata": {},
   "outputs": [],
   "source": []
  }
 ],
 "metadata": {
  "kernelspec": {
   "display_name": "Python 3",
   "language": "python",
   "name": "python3"
  },
  "language_info": {
   "codemirror_mode": {
    "name": "ipython",
    "version": 3
   },
   "file_extension": ".py",
   "mimetype": "text/x-python",
   "name": "python",
   "nbconvert_exporter": "python",
   "pygments_lexer": "ipython3",
   "version": "3.8.8"
  }
 },
 "nbformat": 4,
 "nbformat_minor": 5
}
