{
 "cells": [
  {
   "cell_type": "code",
   "execution_count": 1,
   "id": "603c78cc",
   "metadata": {},
   "outputs": [],
   "source": [
    "import cv_strategy\n",
    "import pandas as pd\n",
    "import tushare as ts\n",
    "from matplotlib import pyplot as plt\n",
    "from matplotlib import animation\n",
    "import numpy as np\n",
    "import akshare as ak"
   ]
  },
  {
   "cell_type": "code",
   "execution_count": 2,
   "id": "684f04f9",
   "metadata": {
    "scrolled": true
   },
   "outputs": [
    {
     "name": "stdout",
     "output_type": "stream",
     "text": [
      "本接口即将停止更新，请尽快使用Pro版接口：https://tushare.pro/document/2\n"
     ]
    },
    {
     "name": "stderr",
     "output_type": "stream",
     "text": [
      "C:\\Users\\Lenovo\\anaconda3\\Lib\\site-packages\\tushare\\stock\\trading.py:706: FutureWarning: The frame.append method is deprecated and will be removed from pandas in a future version. Use pandas.concat instead.\n",
      "  data = data.append(_get_k_data(url, dataflag,\n",
      "C:\\Users\\Lenovo\\anaconda3\\Lib\\site-packages\\tushare\\stock\\trading.py:706: FutureWarning: The frame.append method is deprecated and will be removed from pandas in a future version. Use pandas.concat instead.\n",
      "  data = data.append(_get_k_data(url, dataflag,\n",
      "C:\\Users\\Lenovo\\anaconda3\\Lib\\site-packages\\tushare\\stock\\trading.py:706: FutureWarning: The frame.append method is deprecated and will be removed from pandas in a future version. Use pandas.concat instead.\n",
      "  data = data.append(_get_k_data(url, dataflag,\n",
      "C:\\Users\\Lenovo\\anaconda3\\Lib\\site-packages\\tushare\\stock\\trading.py:706: FutureWarning: The frame.append method is deprecated and will be removed from pandas in a future version. Use pandas.concat instead.\n",
      "  data = data.append(_get_k_data(url, dataflag,\n",
      "C:\\Users\\Lenovo\\anaconda3\\Lib\\site-packages\\tushare\\stock\\trading.py:706: FutureWarning: The frame.append method is deprecated and will be removed from pandas in a future version. Use pandas.concat instead.\n",
      "  data = data.append(_get_k_data(url, dataflag,\n",
      "C:\\Users\\Lenovo\\anaconda3\\Lib\\site-packages\\tushare\\stock\\trading.py:706: FutureWarning: The frame.append method is deprecated and will be removed from pandas in a future version. Use pandas.concat instead.\n",
      "  data = data.append(_get_k_data(url, dataflag,\n",
      "C:\\Users\\Lenovo\\anaconda3\\Lib\\site-packages\\tushare\\stock\\trading.py:706: FutureWarning: The frame.append method is deprecated and will be removed from pandas in a future version. Use pandas.concat instead.\n",
      "  data = data.append(_get_k_data(url, dataflag,\n",
      "C:\\Users\\Lenovo\\anaconda3\\Lib\\site-packages\\tushare\\stock\\trading.py:706: FutureWarning: The frame.append method is deprecated and will be removed from pandas in a future version. Use pandas.concat instead.\n",
      "  data = data.append(_get_k_data(url, dataflag,\n",
      "C:\\Users\\Lenovo\\anaconda3\\Lib\\site-packages\\tushare\\stock\\trading.py:706: FutureWarning: The frame.append method is deprecated and will be removed from pandas in a future version. Use pandas.concat instead.\n",
      "  data = data.append(_get_k_data(url, dataflag,\n",
      "C:\\Users\\Lenovo\\anaconda3\\Lib\\site-packages\\tushare\\stock\\trading.py:706: FutureWarning: The frame.append method is deprecated and will be removed from pandas in a future version. Use pandas.concat instead.\n",
      "  data = data.append(_get_k_data(url, dataflag,\n",
      "C:\\Users\\Lenovo\\anaconda3\\Lib\\site-packages\\tushare\\stock\\trading.py:706: FutureWarning: The frame.append method is deprecated and will be removed from pandas in a future version. Use pandas.concat instead.\n",
      "  data = data.append(_get_k_data(url, dataflag,\n"
     ]
    }
   ],
   "source": [
    "sz50_data = ts.get_k_data('sz50',start='2000-01-01',ktype='D').set_index('date')"
   ]
  },
  {
   "cell_type": "code",
   "execution_count": 3,
   "id": "55b1b536",
   "metadata": {},
   "outputs": [],
   "source": [
    "period=240\n",
    "period2 = 120\n",
    "\n",
    "# sz50['pos'] = (sz50.close-sz50.close.rolling(period).mean())/sz50.close.rolling(period).std()\n"
   ]
  },
  {
   "cell_type": "code",
   "execution_count": 4,
   "id": "ab98f2db",
   "metadata": {},
   "outputs": [],
   "source": [
    "# ROC策略下的股债轮动\n",
    "sz50=sz50_data.copy()\n",
    "sz50['return'] = sz50.close.pct_change()\n",
    "sz50['pos'] = sz50.close/sz50.close.shift(period)\n",
    "sz50['posma'] = sz50.pos.rolling(period2).mean()\n",
    "sz50.dropna(inplace=True)\n",
    "\n",
    "df_wt = pd.DataFrame(columns=['cash','sz50'],index=sz50.index)\n",
    "df_wt.iloc[0,0] = 0.5\n",
    "df_wt.iloc[0,1] = 0.5\n",
    "\n",
    "df_rt = pd.DataFrame(columns=['cash','sz50'],index=sz50.index)\n",
    "df_rt['cash'] = 0.00015\n",
    "df_rt['sz50'] = sz50['return']\n",
    "\n",
    "for i in sz50.index[1:]:\n",
    "    df_wt.loc[i,'cash'] = df_wt.shift(1).loc[i,'cash']*(1+df_rt.loc[i,'cash'])\n",
    "    df_wt.loc[i,'sz50'] = df_wt.shift(1).loc[i,'sz50']*(1+df_rt.loc[i,'sz50'])\n",
    "    \n",
    "    if sz50.loc[i,'pos']>sz50.loc[i,'posma']:    #signal[0]:\n",
    "        df_wt.loc[i,'sz50'] = df_wt.loc[i].sum()\n",
    "        df_wt.loc[i,'cash'] = 0\n",
    "    elif sz50.loc[i,'pos']<sz50.loc[i,'posma']:  #signal[1]:\n",
    "        df_wt.loc[i,'cash'] = df_wt.loc[i].sum()\n",
    "        df_wt.loc[i,'sz50'] = 0\n",
    "print(df_wt.T.sum()[-1])"
   ]
  },
  {
   "cell_type": "code",
   "execution_count": 18,
   "id": "6bde5ffd",
   "metadata": {},
   "outputs": [
    {
     "name": "stdout",
     "output_type": "stream",
     "text": [
      "本接口即将停止更新，请尽快使用Pro版接口：https://tushare.pro/document/2\n"
     ]
    },
    {
     "name": "stderr",
     "output_type": "stream",
     "text": [
      "C:\\Users\\Lenovo\\anaconda3\\Lib\\site-packages\\tushare\\stock\\trading.py:706: FutureWarning: The frame.append method is deprecated and will be removed from pandas in a future version. Use pandas.concat instead.\n",
      "  data = data.append(_get_k_data(url, dataflag,\n",
      "C:\\Users\\Lenovo\\anaconda3\\Lib\\site-packages\\tushare\\stock\\trading.py:706: FutureWarning: The frame.append method is deprecated and will be removed from pandas in a future version. Use pandas.concat instead.\n",
      "  data = data.append(_get_k_data(url, dataflag,\n",
      "C:\\Users\\Lenovo\\anaconda3\\Lib\\site-packages\\tushare\\stock\\trading.py:706: FutureWarning: The frame.append method is deprecated and will be removed from pandas in a future version. Use pandas.concat instead.\n",
      "  data = data.append(_get_k_data(url, dataflag,\n",
      "C:\\Users\\Lenovo\\anaconda3\\Lib\\site-packages\\tushare\\stock\\trading.py:706: FutureWarning: The frame.append method is deprecated and will be removed from pandas in a future version. Use pandas.concat instead.\n",
      "  data = data.append(_get_k_data(url, dataflag,\n"
     ]
    }
   ],
   "source": [
    "# POS策略下的择时\n",
    "sz50=ts.get_k_data('512800',start='2017-06-31')\n",
    "\n",
    "sz50['return'] = sz50.close.pct_change()\n",
    "sz50['pos'] = (sz50.close-sz50.close.rolling(period).mean())/sz50.close.rolling(period).std()\n",
    "sz50.dropna(inplace=True)\n",
    "\n",
    "df_wt = pd.DataFrame(columns=['cash','sz50'],index=sz50.index)\n",
    "df_wt.iloc[0,0] = 0.5\n",
    "df_wt.iloc[0,1] = 0.5\n",
    "\n",
    "df_rt = pd.DataFrame(columns=['cash','sz50'],index=sz50.index)\n",
    "df_rt['cash'] = 0.00015\n",
    "df_rt['sz50'] = sz50['return']\n",
    "\n",
    "signal=[-2.5,2.5]\n",
    "\n",
    "for i in sz50.index[1:]:\n",
    "    df_wt.loc[i,'cash'] = df_wt.shift(1).loc[i,'cash']*(1+df_rt.loc[i,'cash'])\n",
    "    df_wt.loc[i,'sz50'] = df_wt.shift(1).loc[i,'sz50']*(1+df_rt.loc[i,'sz50'])\n",
    "    \n",
    "    if sz50.loc[i,'pos']<signal[0]:\n",
    "        df_wt.loc[i,'sz50'] = df_wt.loc[i].sum()\n",
    "        df_wt.loc[i,'cash'] = 0\n",
    "    elif sz50.loc[i,'pos']>signal[1]:\n",
    "        df_wt.loc[i,'cash'] = df_wt.loc[i].sum()\n",
    "        df_wt.loc[i,'sz50'] = 0\n",
    "# print(df_wt.T.sum()[-1])"
   ]
  },
  {
   "cell_type": "code",
   "execution_count": 19,
   "id": "5b6dd311",
   "metadata": {},
   "outputs": [
    {
     "data": {
      "text/plain": [
       "<Axes: >"
      ]
     },
     "execution_count": 19,
     "metadata": {},
     "output_type": "execute_result"
    },
    {
     "data": {
      "image/png": "[encoded data removed]",
      "text/plain": [
       "<Figure size 640x480 with 1 Axes>"
      ]
     },
     "metadata": {},
     "output_type": "display_data"
    }
   ],
   "source": [
    "df_wt.T.sum().plot(alpha=0.5)\n",
    "df_wt.sz50.plot()"
   ]
  },
  {
   "cell_type": "code",
   "execution_count": 7,
   "id": "d9c9be4f",
   "metadata": {},
   "outputs": [
    {
     "name": "stdout",
     "output_type": "stream",
     "text": [
      "[0.8, 1.8]\n"
     ]
    }
   ],
   "source": [
    "# signal = np.percentile(sz50.pos,[1,99])\n",
    "signal=[0.8,1.8]\n",
    "print(signal)"
   ]
  },
  {
   "cell_type": "code",
   "execution_count": 8,
   "id": "c41fe355",
   "metadata": {},
   "outputs": [
    {
     "name": "stdout",
     "output_type": "stream",
     "text": [
      "19.90951368147228\n"
     ]
    }
   ],
   "source": []
  },
  {
   "cell_type": "code",
   "execution_count": 9,
   "id": "31735d9e",
   "metadata": {},
   "outputs": [
    {
     "data": {
      "text/plain": [
       "<Axes: xlabel='date'>"
      ]
     },
     "execution_count": 9,
     "metadata": {},
     "output_type": "execute_result"
    },
    {
     "data": {
      "image/png": "[encoded data removed]",
      "text/plain": [
       "<Figure size 640x480 with 1 Axes>"
      ]
     },
     "metadata": {},
     "output_type": "display_data"
    }
   ],
   "source": [
    "df_wt.T.sum().plot()"
   ]
  },
  {
   "cell_type": "code",
   "execution_count": 210,
   "id": "6602b26c",
   "metadata": {},
   "outputs": [
    {
     "data": {
      "text/plain": [
       "<AxesSubplot:xlabel='date'>"
      ]
     },
     "execution_count": 210,
     "metadata": {},
     "output_type": "execute_result"
    },
    {
     "data": {
      "image/png": "[encoded data removed]",
      "text/plain": [
       "<Figure size 432x288 with 1 Axes>"
      ]
     },
     "metadata": {
      "needs_background": "light"
     },
     "output_type": "display_data"
    }
   ],
   "source": [
    "df_wt.plot()"
   ]
  },
  {
   "cell_type": "code",
   "execution_count": 211,
   "id": "95a88186",
   "metadata": {},
   "outputs": [
    {
     "data": {
      "text/plain": [
       "<AxesSubplot:xlabel='date'>"
      ]
     },
     "execution_count": 211,
     "metadata": {},
     "output_type": "execute_result"
    },
    {
     "data": {
      "image/png": "[encoded data removed]",
      "text/plain": [
       "<Figure size 432x288 with 1 Axes>"
      ]
     },
     "metadata": {
      "needs_background": "light"
     },
     "output_type": "display_data"
    }
   ],
   "source": [
    "df_wt.T.sum().iloc[-1000:].plot()"
   ]
  },
  {
   "cell_type": "markdown",
   "id": "50ba6cdd",
   "metadata": {},
   "source": [
    "---"
   ]
  },
  {
   "cell_type": "code",
   "execution_count": 61,
   "id": "d725d457",
   "metadata": {},
   "outputs": [
    {
     "name": "stdout",
     "output_type": "stream",
     "text": [
      "本接口即将停止更新，请尽快使用Pro版接口：https://waditu.com/document/2\n"
     ]
    }
   ],
   "source": [
    "sz50 = ts.get_k_data('hs300',start='2000-01-01',ktype='D').set_index('date')\n"
   ]
  },
  {
   "cell_type": "code",
   "execution_count": 62,
   "id": "634e0a7d",
   "metadata": {},
   "outputs": [],
   "source": [
    "ps = [*range(2,720)]\n",
    "for p in ps:\n",
    "    sz50['{}pastyear_return'.format(p)] = (sz50.close)/(sz50.close.shift(p))\n",
    "    sz50['{}nextyear_return'.format(p)] = (sz50.close.shift(-p))/(sz50.close)"
   ]
  },
  {
   "cell_type": "code",
   "execution_count": 63,
   "id": "5d2d421a",
   "metadata": {},
   "outputs": [],
   "source": [
    "sz50corr = sz50.corr()"
   ]
  },
  {
   "cell_type": "code",
   "execution_count": 64,
   "id": "3334932c",
   "metadata": {},
   "outputs": [],
   "source": [
    "cs = []\n",
    "for p in ps:\n",
    "    i = sz50corr.loc['{}pastyear_return'.format(p),'{}nextyear_return'.format(p)]\n",
    "    cs.append(i)"
   ]
  },
  {
   "cell_type": "code",
   "execution_count": 65,
   "id": "505fd728",
   "metadata": {},
   "outputs": [
    {
     "data": {
      "text/plain": [
       "Text(0, 0.5, 'corr() of past ndays and next ndays')"
      ]
     },
     "execution_count": 65,
     "metadata": {},
     "output_type": "execute_result"
    },
    {
     "data": {
      "image/png": "[encoded data removed]",
      "text/plain": [
       "<Figure size 432x288 with 1 Axes>"
      ]
     },
     "metadata": {
      "needs_background": "light"
     },
     "output_type": "display_data"
    }
   ],
   "source": [
    "# hs300\n",
    "plt.plot(ps,cs)\n",
    "plt.xlabel('n days')\n",
    "plt.ylabel('corr() of past ndays and next ndays')"
   ]
  },
  {
   "cell_type": "code",
   "execution_count": null,
   "id": "bdf12495",
   "metadata": {},
   "outputs": [],
   "source": []
  },
  {
   "cell_type": "code",
   "execution_count": 60,
   "id": "dfc8005c",
   "metadata": {},
   "outputs": [
    {
     "data": {
      "text/plain": [
       "Text(0, 0.5, 'corr() of past ndays and next ndays')"
      ]
     },
     "execution_count": 60,
     "metadata": {},
     "output_type": "execute_result"
    },
    {
     "data": {
      "image/png": "[encoded data removed]",
      "text/plain": [
       "<Figure size 432x288 with 1 Axes>"
      ]
     },
     "metadata": {
      "needs_background": "light"
     },
     "output_type": "display_data"
    }
   ],
   "source": [
    "# zz500\n",
    "plt.plot(ps,cs)\n",
    "plt.xlabel('n days')\n",
    "plt.ylabel('corr() of past ndays and next ndays')"
   ]
  },
  {
   "cell_type": "code",
   "execution_count": 45,
   "id": "7ab9c828",
   "metadata": {
    "scrolled": false
   },
   "outputs": [
    {
     "data": {
      "text/plain": [
       "Text(0, 0.5, 'corr() of past ndays and next ndays')"
      ]
     },
     "execution_count": 45,
     "metadata": {},
     "output_type": "execute_result"
    },
    {
     "data": {
      "image/png": "[encoded data removed]",
      "text/plain": [
       "<Figure size 432x288 with 1 Axes>"
      ]
     },
     "metadata": {
      "needs_background": "light"
     },
     "output_type": "display_data"
    }
   ],
   "source": [
    "# sz50\n",
    "plt.plot(ps,cs)\n",
    "plt.xlabel('n days')\n",
    "plt.ylabel('corr() of past ndays and next ndays')"
   ]
  },
  {
   "cell_type": "code",
   "execution_count": 66,
   "id": "f0d80347",
   "metadata": {},
   "outputs": [
    {
     "data": {
      "text/html": [
       "<div>\n",
       "<style scoped>\n",
       "    .dataframe tbody tr th:only-of-type {\n",
       "        vertical-align: middle;\n",
       "    }\n",
       "\n",
       "    .dataframe tbody tr th {\n",
       "        vertical-align: top;\n",
       "    }\n",
       "\n",
       "    .dataframe thead th {\n",
       "        text-align: right;\n",
       "    }\n",
       "</style>\n",
       "<table border=\"1\" class=\"dataframe\">\n",
       "  <thead>\n",
       "    <tr style=\"text-align: right;\">\n",
       "      <th></th>\n",
       "      <th>ps</th>\n",
       "      <th>cs</th>\n",
       "    </tr>\n",
       "  </thead>\n",
       "  <tbody>\n",
       "    <tr>\n",
       "      <th>0</th>\n",
       "      <td>2</td>\n",
       "      <td>-0.000388</td>\n",
       "    </tr>\n",
       "    <tr>\n",
       "      <th>1</th>\n",
       "      <td>3</td>\n",
       "      <td>0.047212</td>\n",
       "    </tr>\n",
       "    <tr>\n",
       "      <th>2</th>\n",
       "      <td>4</td>\n",
       "      <td>0.036484</td>\n",
       "    </tr>\n",
       "    <tr>\n",
       "      <th>3</th>\n",
       "      <td>5</td>\n",
       "      <td>0.023851</td>\n",
       "    </tr>\n",
       "    <tr>\n",
       "      <th>4</th>\n",
       "      <td>6</td>\n",
       "      <td>0.023199</td>\n",
       "    </tr>\n",
       "    <tr>\n",
       "      <th>...</th>\n",
       "      <td>...</td>\n",
       "      <td>...</td>\n",
       "    </tr>\n",
       "    <tr>\n",
       "      <th>713</th>\n",
       "      <td>715</td>\n",
       "      <td>-0.347540</td>\n",
       "    </tr>\n",
       "    <tr>\n",
       "      <th>714</th>\n",
       "      <td>716</td>\n",
       "      <td>-0.348175</td>\n",
       "    </tr>\n",
       "    <tr>\n",
       "      <th>715</th>\n",
       "      <td>717</td>\n",
       "      <td>-0.348560</td>\n",
       "    </tr>\n",
       "    <tr>\n",
       "      <th>716</th>\n",
       "      <td>718</td>\n",
       "      <td>-0.349222</td>\n",
       "    </tr>\n",
       "    <tr>\n",
       "      <th>717</th>\n",
       "      <td>719</td>\n",
       "      <td>-0.350039</td>\n",
       "    </tr>\n",
       "  </tbody>\n",
       "</table>\n",
       "<p>718 rows × 2 columns</p>\n",
       "</div>"
      ],
      "text/plain": [
       "      ps        cs\n",
       "0      2 -0.000388\n",
       "1      3  0.047212\n",
       "2      4  0.036484\n",
       "3      5  0.023851\n",
       "4      6  0.023199\n",
       "..   ...       ...\n",
       "713  715 -0.347540\n",
       "714  716 -0.348175\n",
       "715  717 -0.348560\n",
       "716  718 -0.349222\n",
       "717  719 -0.350039\n",
       "\n",
       "[718 rows x 2 columns]"
      ]
     },
     "execution_count": 66,
     "metadata": {},
     "output_type": "execute_result"
    }
   ],
   "source": [
    "ds = pd.DataFrame({'ps':ps,'cs':cs})\n",
    "ds"
   ]
  },
  {
   "cell_type": "code",
   "execution_count": 67,
   "id": "5c223d68",
   "metadata": {},
   "outputs": [
    {
     "data": {
      "text/html": [
       "<div>\n",
       "<style scoped>\n",
       "    .dataframe tbody tr th:only-of-type {\n",
       "        vertical-align: middle;\n",
       "    }\n",
       "\n",
       "    .dataframe tbody tr th {\n",
       "        vertical-align: top;\n",
       "    }\n",
       "\n",
       "    .dataframe thead th {\n",
       "        text-align: right;\n",
       "    }\n",
       "</style>\n",
       "<table border=\"1\" class=\"dataframe\">\n",
       "  <thead>\n",
       "    <tr style=\"text-align: right;\">\n",
       "      <th></th>\n",
       "      <th>ps</th>\n",
       "      <th>cs</th>\n",
       "    </tr>\n",
       "  </thead>\n",
       "  <tbody>\n",
       "    <tr>\n",
       "      <th>76</th>\n",
       "      <td>78</td>\n",
       "      <td>0.373688</td>\n",
       "    </tr>\n",
       "    <tr>\n",
       "      <th>75</th>\n",
       "      <td>77</td>\n",
       "      <td>0.373442</td>\n",
       "    </tr>\n",
       "    <tr>\n",
       "      <th>74</th>\n",
       "      <td>76</td>\n",
       "      <td>0.372834</td>\n",
       "    </tr>\n",
       "    <tr>\n",
       "      <th>77</th>\n",
       "      <td>79</td>\n",
       "      <td>0.372705</td>\n",
       "    </tr>\n",
       "    <tr>\n",
       "      <th>73</th>\n",
       "      <td>75</td>\n",
       "      <td>0.371661</td>\n",
       "    </tr>\n",
       "    <tr>\n",
       "      <th>...</th>\n",
       "      <td>...</td>\n",
       "      <td>...</td>\n",
       "    </tr>\n",
       "    <tr>\n",
       "      <th>390</th>\n",
       "      <td>392</td>\n",
       "      <td>-0.490570</td>\n",
       "    </tr>\n",
       "    <tr>\n",
       "      <th>386</th>\n",
       "      <td>388</td>\n",
       "      <td>-0.490633</td>\n",
       "    </tr>\n",
       "    <tr>\n",
       "      <th>388</th>\n",
       "      <td>390</td>\n",
       "      <td>-0.490633</td>\n",
       "    </tr>\n",
       "    <tr>\n",
       "      <th>387</th>\n",
       "      <td>389</td>\n",
       "      <td>-0.490674</td>\n",
       "    </tr>\n",
       "    <tr>\n",
       "      <th>389</th>\n",
       "      <td>391</td>\n",
       "      <td>-0.490831</td>\n",
       "    </tr>\n",
       "  </tbody>\n",
       "</table>\n",
       "<p>718 rows × 2 columns</p>\n",
       "</div>"
      ],
      "text/plain": [
       "      ps        cs\n",
       "76    78  0.373688\n",
       "75    77  0.373442\n",
       "74    76  0.372834\n",
       "77    79  0.372705\n",
       "73    75  0.371661\n",
       "..   ...       ...\n",
       "390  392 -0.490570\n",
       "386  388 -0.490633\n",
       "388  390 -0.490633\n",
       "387  389 -0.490674\n",
       "389  391 -0.490831\n",
       "\n",
       "[718 rows x 2 columns]"
      ]
     },
     "execution_count": 67,
     "metadata": {},
     "output_type": "execute_result"
    }
   ],
   "source": [
    "ds.sort_values('cs',ascending=False)"
   ]
  },
  {
   "cell_type": "code",
   "execution_count": 68,
   "id": "8f2261c2",
   "metadata": {},
   "outputs": [
    {
     "data": {
      "text/html": [
       "<div>\n",
       "<style scoped>\n",
       "    .dataframe tbody tr th:only-of-type {\n",
       "        vertical-align: middle;\n",
       "    }\n",
       "\n",
       "    .dataframe tbody tr th {\n",
       "        vertical-align: top;\n",
       "    }\n",
       "\n",
       "    .dataframe thead th {\n",
       "        text-align: right;\n",
       "    }\n",
       "</style>\n",
       "<table border=\"1\" class=\"dataframe\">\n",
       "  <thead>\n",
       "    <tr style=\"text-align: right;\">\n",
       "      <th></th>\n",
       "      <th>open</th>\n",
       "      <th>close</th>\n",
       "      <th>high</th>\n",
       "      <th>low</th>\n",
       "      <th>volume</th>\n",
       "      <th>code</th>\n",
       "      <th>2pastyear_return</th>\n",
       "      <th>2nextyear_return</th>\n",
       "      <th>3pastyear_return</th>\n",
       "      <th>3nextyear_return</th>\n",
       "      <th>...</th>\n",
       "      <th>715pastyear_return</th>\n",
       "      <th>715nextyear_return</th>\n",
       "      <th>716pastyear_return</th>\n",
       "      <th>716nextyear_return</th>\n",
       "      <th>717pastyear_return</th>\n",
       "      <th>717nextyear_return</th>\n",
       "      <th>718pastyear_return</th>\n",
       "      <th>718nextyear_return</th>\n",
       "      <th>719pastyear_return</th>\n",
       "      <th>719nextyear_return</th>\n",
       "    </tr>\n",
       "    <tr>\n",
       "      <th>date</th>\n",
       "      <th></th>\n",
       "      <th></th>\n",
       "      <th></th>\n",
       "      <th></th>\n",
       "      <th></th>\n",
       "      <th></th>\n",
       "      <th></th>\n",
       "      <th></th>\n",
       "      <th></th>\n",
       "      <th></th>\n",
       "      <th></th>\n",
       "      <th></th>\n",
       "      <th></th>\n",
       "      <th></th>\n",
       "      <th></th>\n",
       "      <th></th>\n",
       "      <th></th>\n",
       "      <th></th>\n",
       "      <th></th>\n",
       "      <th></th>\n",
       "      <th></th>\n",
       "    </tr>\n",
       "  </thead>\n",
       "  <tbody>\n",
       "    <tr>\n",
       "      <th>2005-04-08</th>\n",
       "      <td>984.66</td>\n",
       "      <td>1003.45</td>\n",
       "      <td>1003.70</td>\n",
       "      <td>979.53</td>\n",
       "      <td>14762500.0</td>\n",
       "      <td>hs300</td>\n",
       "      <td>NaN</td>\n",
       "      <td>0.975335</td>\n",
       "      <td>NaN</td>\n",
       "      <td>0.997459</td>\n",
       "      <td>...</td>\n",
       "      <td>NaN</td>\n",
       "      <td>3.988071</td>\n",
       "      <td>NaN</td>\n",
       "      <td>4.023947</td>\n",
       "      <td>NaN</td>\n",
       "      <td>3.843829</td>\n",
       "      <td>NaN</td>\n",
       "      <td>3.892341</td>\n",
       "      <td>NaN</td>\n",
       "      <td>3.900912</td>\n",
       "    </tr>\n",
       "    <tr>\n",
       "      <th>2005-04-11</th>\n",
       "      <td>1003.88</td>\n",
       "      <td>995.42</td>\n",
       "      <td>1008.73</td>\n",
       "      <td>992.77</td>\n",
       "      <td>15936100.0</td>\n",
       "      <td>hs300</td>\n",
       "      <td>NaN</td>\n",
       "      <td>1.005505</td>\n",
       "      <td>NaN</td>\n",
       "      <td>0.991511</td>\n",
       "      <td>...</td>\n",
       "      <td>NaN</td>\n",
       "      <td>4.056408</td>\n",
       "      <td>NaN</td>\n",
       "      <td>3.874837</td>\n",
       "      <td>NaN</td>\n",
       "      <td>3.923741</td>\n",
       "      <td>NaN</td>\n",
       "      <td>3.932380</td>\n",
       "      <td>NaN</td>\n",
       "      <td>3.766169</td>\n",
       "    </tr>\n",
       "    <tr>\n",
       "      <th>2005-04-12</th>\n",
       "      <td>993.71</td>\n",
       "      <td>978.70</td>\n",
       "      <td>993.71</td>\n",
       "      <td>978.20</td>\n",
       "      <td>10226200.0</td>\n",
       "      <td>hs300</td>\n",
       "      <td>0.975335</td>\n",
       "      <td>1.008450</td>\n",
       "      <td>NaN</td>\n",
       "      <td>0.995279</td>\n",
       "      <td>...</td>\n",
       "      <td>NaN</td>\n",
       "      <td>3.941034</td>\n",
       "      <td>NaN</td>\n",
       "      <td>3.990773</td>\n",
       "      <td>NaN</td>\n",
       "      <td>3.999561</td>\n",
       "      <td>NaN</td>\n",
       "      <td>3.830510</td>\n",
       "      <td>NaN</td>\n",
       "      <td>4.003433</td>\n",
       "    </tr>\n",
       "    <tr>\n",
       "      <th>2005-04-13</th>\n",
       "      <td>987.95</td>\n",
       "      <td>1000.90</td>\n",
       "      <td>1006.50</td>\n",
       "      <td>987.95</td>\n",
       "      <td>16071700.0</td>\n",
       "      <td>hs300</td>\n",
       "      <td>1.005505</td>\n",
       "      <td>0.973204</td>\n",
       "      <td>0.997459</td>\n",
       "      <td>0.962903</td>\n",
       "      <td>...</td>\n",
       "      <td>NaN</td>\n",
       "      <td>3.902258</td>\n",
       "      <td>NaN</td>\n",
       "      <td>3.910850</td>\n",
       "      <td>NaN</td>\n",
       "      <td>3.745549</td>\n",
       "      <td>NaN</td>\n",
       "      <td>3.914637</td>\n",
       "      <td>NaN</td>\n",
       "      <td>3.787122</td>\n",
       "    </tr>\n",
       "    <tr>\n",
       "      <th>2005-04-14</th>\n",
       "      <td>1004.64</td>\n",
       "      <td>986.97</td>\n",
       "      <td>1006.42</td>\n",
       "      <td>985.58</td>\n",
       "      <td>12945700.0</td>\n",
       "      <td>hs300</td>\n",
       "      <td>1.008450</td>\n",
       "      <td>0.976494</td>\n",
       "      <td>0.991511</td>\n",
       "      <td>0.978642</td>\n",
       "      <td>...</td>\n",
       "      <td>NaN</td>\n",
       "      <td>3.966048</td>\n",
       "      <td>NaN</td>\n",
       "      <td>3.798413</td>\n",
       "      <td>NaN</td>\n",
       "      <td>3.969888</td>\n",
       "      <td>NaN</td>\n",
       "      <td>3.840573</td>\n",
       "      <td>NaN</td>\n",
       "      <td>3.630151</td>\n",
       "    </tr>\n",
       "    <tr>\n",
       "      <th>...</th>\n",
       "      <td>...</td>\n",
       "      <td>...</td>\n",
       "      <td>...</td>\n",
       "      <td>...</td>\n",
       "      <td>...</td>\n",
       "      <td>...</td>\n",
       "      <td>...</td>\n",
       "      <td>...</td>\n",
       "      <td>...</td>\n",
       "      <td>...</td>\n",
       "      <td>...</td>\n",
       "      <td>...</td>\n",
       "      <td>...</td>\n",
       "      <td>...</td>\n",
       "      <td>...</td>\n",
       "      <td>...</td>\n",
       "      <td>...</td>\n",
       "      <td>...</td>\n",
       "      <td>...</td>\n",
       "      <td>...</td>\n",
       "      <td>...</td>\n",
       "    </tr>\n",
       "    <tr>\n",
       "      <th>2023-07-07</th>\n",
       "      <td>3831.60</td>\n",
       "      <td>3825.70</td>\n",
       "      <td>3844.84</td>\n",
       "      <td>3819.08</td>\n",
       "      <td>100906920.0</td>\n",
       "      <td>hs300</td>\n",
       "      <td>0.988857</td>\n",
       "      <td>1.011446</td>\n",
       "      <td>0.981198</td>\n",
       "      <td>1.004637</td>\n",
       "      <td>...</td>\n",
       "      <td>0.844814</td>\n",
       "      <td>NaN</td>\n",
       "      <td>0.849101</td>\n",
       "      <td>NaN</td>\n",
       "      <td>0.811830</td>\n",
       "      <td>NaN</td>\n",
       "      <td>0.811484</td>\n",
       "      <td>NaN</td>\n",
       "      <td>0.815533</td>\n",
       "      <td>NaN</td>\n",
       "    </tr>\n",
       "    <tr>\n",
       "      <th>2023-07-10</th>\n",
       "      <td>3841.56</td>\n",
       "      <td>3844.33</td>\n",
       "      <td>3865.46</td>\n",
       "      <td>3831.92</td>\n",
       "      <td>92033441.0</td>\n",
       "      <td>hs300</td>\n",
       "      <td>1.000411</td>\n",
       "      <td>0.999768</td>\n",
       "      <td>0.993672</td>\n",
       "      <td>1.014070</td>\n",
       "      <td>...</td>\n",
       "      <td>0.841530</td>\n",
       "      <td>NaN</td>\n",
       "      <td>0.848928</td>\n",
       "      <td>NaN</td>\n",
       "      <td>0.853236</td>\n",
       "      <td>NaN</td>\n",
       "      <td>0.815783</td>\n",
       "      <td>NaN</td>\n",
       "      <td>0.815436</td>\n",
       "      <td>NaN</td>\n",
       "    </tr>\n",
       "    <tr>\n",
       "      <th>2023-07-11</th>\n",
       "      <td>3853.80</td>\n",
       "      <td>3869.49</td>\n",
       "      <td>3870.65</td>\n",
       "      <td>3844.52</td>\n",
       "      <td>86510716.0</td>\n",
       "      <td>hs300</td>\n",
       "      <td>1.011446</td>\n",
       "      <td>1.007476</td>\n",
       "      <td>1.006959</td>\n",
       "      <td>NaN</td>\n",
       "      <td>...</td>\n",
       "      <td>0.826989</td>\n",
       "      <td>NaN</td>\n",
       "      <td>0.847038</td>\n",
       "      <td>NaN</td>\n",
       "      <td>0.854484</td>\n",
       "      <td>NaN</td>\n",
       "      <td>0.858820</td>\n",
       "      <td>NaN</td>\n",
       "      <td>0.821122</td>\n",
       "      <td>NaN</td>\n",
       "    </tr>\n",
       "    <tr>\n",
       "      <th>2023-07-12</th>\n",
       "      <td>3864.60</td>\n",
       "      <td>3843.44</td>\n",
       "      <td>3874.04</td>\n",
       "      <td>3838.56</td>\n",
       "      <td>111522024.0</td>\n",
       "      <td>hs300</td>\n",
       "      <td>0.999768</td>\n",
       "      <td>NaN</td>\n",
       "      <td>1.004637</td>\n",
       "      <td>NaN</td>\n",
       "      <td>...</td>\n",
       "      <td>0.825455</td>\n",
       "      <td>NaN</td>\n",
       "      <td>0.821422</td>\n",
       "      <td>NaN</td>\n",
       "      <td>0.841336</td>\n",
       "      <td>NaN</td>\n",
       "      <td>0.848732</td>\n",
       "      <td>NaN</td>\n",
       "      <td>0.853038</td>\n",
       "      <td>NaN</td>\n",
       "    </tr>\n",
       "    <tr>\n",
       "      <th>2023-07-13</th>\n",
       "      <td>3855.66</td>\n",
       "      <td>3898.42</td>\n",
       "      <td>3901.10</td>\n",
       "      <td>3855.66</td>\n",
       "      <td>120300232.0</td>\n",
       "      <td>hs300</td>\n",
       "      <td>1.007476</td>\n",
       "      <td>NaN</td>\n",
       "      <td>1.014070</td>\n",
       "      <td>NaN</td>\n",
       "      <td>...</td>\n",
       "      <td>0.830326</td>\n",
       "      <td>NaN</td>\n",
       "      <td>0.837263</td>\n",
       "      <td>NaN</td>\n",
       "      <td>0.833172</td>\n",
       "      <td>NaN</td>\n",
       "      <td>0.853371</td>\n",
       "      <td>NaN</td>\n",
       "      <td>0.860873</td>\n",
       "      <td>NaN</td>\n",
       "    </tr>\n",
       "  </tbody>\n",
       "</table>\n",
       "<p>4440 rows × 1442 columns</p>\n",
       "</div>"
      ],
      "text/plain": [
       "               open    close     high      low       volume   code  \\\n",
       "date                                                                 \n",
       "2005-04-08   984.66  1003.45  1003.70   979.53   14762500.0  hs300   \n",
       "2005-04-11  1003.88   995.42  1008.73   992.77   15936100.0  hs300   \n",
       "2005-04-12   993.71   978.70   993.71   978.20   10226200.0  hs300   \n",
       "2005-04-13   987.95  1000.90  1006.50   987.95   16071700.0  hs300   \n",
       "2005-04-14  1004.64   986.97  1006.42   985.58   12945700.0  hs300   \n",
       "...             ...      ...      ...      ...          ...    ...   \n",
       "2023-07-07  3831.60  3825.70  3844.84  3819.08  100906920.0  hs300   \n",
       "2023-07-10  3841.56  3844.33  3865.46  3831.92   92033441.0  hs300   \n",
       "2023-07-11  3853.80  3869.49  3870.65  3844.52   86510716.0  hs300   \n",
       "2023-07-12  3864.60  3843.44  3874.04  3838.56  111522024.0  hs300   \n",
       "2023-07-13  3855.66  3898.42  3901.10  3855.66  120300232.0  hs300   \n",
       "\n",
       "            2pastyear_return  2nextyear_return  3pastyear_return  \\\n",
       "date                                                               \n",
       "2005-04-08               NaN          0.975335               NaN   \n",
       "2005-04-11               NaN          1.005505               NaN   \n",
       "2005-04-12          0.975335          1.008450               NaN   \n",
       "2005-04-13          1.005505          0.973204          0.997459   \n",
       "2005-04-14          1.008450          0.976494          0.991511   \n",
       "...                      ...               ...               ...   \n",
       "2023-07-07          0.988857          1.011446          0.981198   \n",
       "2023-07-10          1.000411          0.999768          0.993672   \n",
       "2023-07-11          1.011446          1.007476          1.006959   \n",
       "2023-07-12          0.999768               NaN          1.004637   \n",
       "2023-07-13          1.007476               NaN          1.014070   \n",
       "\n",
       "            3nextyear_return  ...  715pastyear_return  715nextyear_return  \\\n",
       "date                          ...                                           \n",
       "2005-04-08          0.997459  ...                 NaN            3.988071   \n",
       "2005-04-11          0.991511  ...                 NaN            4.056408   \n",
       "2005-04-12          0.995279  ...                 NaN            3.941034   \n",
       "2005-04-13          0.962903  ...                 NaN            3.902258   \n",
       "2005-04-14          0.978642  ...                 NaN            3.966048   \n",
       "...                      ...  ...                 ...                 ...   \n",
       "2023-07-07          1.004637  ...            0.844814                 NaN   \n",
       "2023-07-10          1.014070  ...            0.841530                 NaN   \n",
       "2023-07-11               NaN  ...            0.826989                 NaN   \n",
       "2023-07-12               NaN  ...            0.825455                 NaN   \n",
       "2023-07-13               NaN  ...            0.830326                 NaN   \n",
       "\n",
       "            716pastyear_return  716nextyear_return  717pastyear_return  \\\n",
       "date                                                                     \n",
       "2005-04-08                 NaN            4.023947                 NaN   \n",
       "2005-04-11                 NaN            3.874837                 NaN   \n",
       "2005-04-12                 NaN            3.990773                 NaN   \n",
       "2005-04-13                 NaN            3.910850                 NaN   \n",
       "2005-04-14                 NaN            3.798413                 NaN   \n",
       "...                        ...                 ...                 ...   \n",
       "2023-07-07            0.849101                 NaN            0.811830   \n",
       "2023-07-10            0.848928                 NaN            0.853236   \n",
       "2023-07-11            0.847038                 NaN            0.854484   \n",
       "2023-07-12            0.821422                 NaN            0.841336   \n",
       "2023-07-13            0.837263                 NaN            0.833172   \n",
       "\n",
       "            717nextyear_return  718pastyear_return  718nextyear_return  \\\n",
       "date                                                                     \n",
       "2005-04-08            3.843829                 NaN            3.892341   \n",
       "2005-04-11            3.923741                 NaN            3.932380   \n",
       "2005-04-12            3.999561                 NaN            3.830510   \n",
       "2005-04-13            3.745549                 NaN            3.914637   \n",
       "2005-04-14            3.969888                 NaN            3.840573   \n",
       "...                        ...                 ...                 ...   \n",
       "2023-07-07                 NaN            0.811484                 NaN   \n",
       "2023-07-10                 NaN            0.815783                 NaN   \n",
       "2023-07-11                 NaN            0.858820                 NaN   \n",
       "2023-07-12                 NaN            0.848732                 NaN   \n",
       "2023-07-13                 NaN            0.853371                 NaN   \n",
       "\n",
       "            719pastyear_return  719nextyear_return  \n",
       "date                                                \n",
       "2005-04-08                 NaN            3.900912  \n",
       "2005-04-11                 NaN            3.766169  \n",
       "2005-04-12                 NaN            4.003433  \n",
       "2005-04-13                 NaN            3.787122  \n",
       "2005-04-14                 NaN            3.630151  \n",
       "...                        ...                 ...  \n",
       "2023-07-07            0.815533                 NaN  \n",
       "2023-07-10            0.815436                 NaN  \n",
       "2023-07-11            0.821122                 NaN  \n",
       "2023-07-12            0.853038                 NaN  \n",
       "2023-07-13            0.860873                 NaN  \n",
       "\n",
       "[4440 rows x 1442 columns]"
      ]
     },
     "execution_count": 68,
     "metadata": {},
     "output_type": "execute_result"
    }
   ],
   "source": [
    "sz50"
   ]
  },
  {
   "cell_type": "code",
   "execution_count": null,
   "id": "fc09942d",
   "metadata": {},
   "outputs": [],
   "source": []
  }
 ],
 "metadata": {
  "kernelspec": {
   "display_name": "Python 3 (ipykernel)",
   "language": "python",
   "name": "python3"
  },
  "language_info": {
   "codemirror_mode": {
    "name": "ipython",
    "version": 3
   },
   "file_extension": ".py",
   "mimetype": "text/x-python",
   "name": "python",
   "nbconvert_exporter": "python",
   "pygments_lexer": "ipython3",
   "version": "3.11.4"
  }
 },
 "nbformat": 4,
 "nbformat_minor": 5
}
